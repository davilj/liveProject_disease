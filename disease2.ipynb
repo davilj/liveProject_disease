{
 "cells": [
  {
   "cell_type": "markdown",
   "metadata": {},
   "source": [
    "# Load panda dataframe created in prev exercise"
   ]
  },
  {
   "cell_type": "code",
   "execution_count": 30,
   "metadata": {},
   "outputs": [
    {
     "name": "stdout",
     "output_type": "stream",
     "text": [
      "                                              headline           city country\n",
      "0                           Zika Outbreak Hits Miami\\n          Miami      US\n",
      "1                    Could Zika Reach New York City?\\n  New York City      US\n",
      "2                  First Case of Zika in Miami Beach\\n    Miami Beach      US\n",
      "3            Mystery Virus Spreads in Recife, Brazil\\n         Recife      BR\n",
      "4            Dallas man comes down with case of Zika\\n         Dallas      US\n",
      "..                                                 ...            ...     ...\n",
      "645  Rumors about Rabies spreading in Jerusalem hav...      Jerusalem      IL\n",
      "646            More Zika patients reported in Indang\\n         Indang      PH\n",
      "647  Suva authorities confirmed the spread of Rotav...           Suva      FJ\n",
      "648       More Zika patients reported in Bella Vista\\n    Bella Vista      DO\n",
      "649                   Zika Outbreak in Wichita Falls\\n  Wichita Falls      US\n",
      "\n",
      "[650 rows x 3 columns]\n"
     ]
    }
   ],
   "source": [
    "import os\n",
    "import geonamescache\n",
    "from unidecode import unidecode\n",
    "import pandas as pd \n",
    "\n",
    "gc = geonamescache.GeonamesCache()\n",
    "\n",
    "pwd = os.getcwd()\n",
    "path = os.path.join(pwd, \"data\", \"cities2headlines.csv\")\n",
    "\n",
    "df = pd.read_csv(path)\n",
    "print(df)\n",
    "\n",
    "\n"
   ]
  },
  {
   "cell_type": "code",
   "execution_count": 33,
   "metadata": {},
   "outputs": [
    {
     "name": "stdout",
     "output_type": "stream",
     "text": [
      "                                              headline           city country  \\\n",
      "0                           Zika Outbreak Hits Miami\\n          Miami      US   \n",
      "1                    Could Zika Reach New York City?\\n  New York City      US   \n",
      "2                  First Case of Zika in Miami Beach\\n    Miami Beach      US   \n",
      "3            Mystery Virus Spreads in Recife, Brazil\\n         Recife      BR   \n",
      "4            Dallas man comes down with case of Zika\\n         Dallas      US   \n",
      "..                                                 ...            ...     ...   \n",
      "645  Rumors about Rabies spreading in Jerusalem hav...      Jerusalem      IL   \n",
      "646            More Zika patients reported in Indang\\n         Indang      PH   \n",
      "647  Suva authorities confirmed the spread of Rotav...           Suva      FJ   \n",
      "648       More Zika patients reported in Bella Vista\\n    Bella Vista      DO   \n",
      "649                   Zika Outbreak in Wichita Falls\\n  Wichita Falls      US   \n",
      "\n",
      "                           info       lat       long  \n",
      "0     [25.77427, -80.19366, US]  25.77427  -80.19366  \n",
      "1     [40.71427, -74.00597, US]  40.71427  -74.00597  \n",
      "2     [25.79065, -80.13005, US]  25.79065  -80.13005  \n",
      "3     [-8.05389, -34.88111, BR]  -8.05389  -34.88111  \n",
      "4     [32.78306, -96.80667, US]  32.78306  -96.80667  \n",
      "..                          ...       ...        ...  \n",
      "645    [31.76904, 35.21633, IL]  31.76904   35.21633  \n",
      "646   [14.19528, 120.87694, PH]  14.19528  120.87694  \n",
      "647  [-18.14161, 178.44149, FJ] -18.14161  178.44149  \n",
      "648    [18.45539, -69.9454, DO]  18.45539  -69.94540  \n",
      "649   [33.91371, -98.49339, US]  33.91371  -98.49339  \n",
      "\n",
      "[650 rows x 6 columns]\n",
      "                                              headline           city country  \\\n",
      "0                           Zika Outbreak Hits Miami\\n          Miami      US   \n",
      "1                    Could Zika Reach New York City?\\n  New York City      US   \n",
      "2                  First Case of Zika in Miami Beach\\n    Miami Beach      US   \n",
      "3            Mystery Virus Spreads in Recife, Brazil\\n         Recife      BR   \n",
      "4            Dallas man comes down with case of Zika\\n         Dallas      US   \n",
      "..                                                 ...            ...     ...   \n",
      "645  Rumors about Rabies spreading in Jerusalem hav...      Jerusalem      IL   \n",
      "646            More Zika patients reported in Indang\\n         Indang      PH   \n",
      "647  Suva authorities confirmed the spread of Rotav...           Suva      FJ   \n",
      "648       More Zika patients reported in Bella Vista\\n    Bella Vista      DO   \n",
      "649                   Zika Outbreak in Wichita Falls\\n  Wichita Falls      US   \n",
      "\n",
      "                           info       lat       long  \n",
      "0     [25.77427, -80.19366, US]  25.77427  -80.19366  \n",
      "1     [40.71427, -74.00597, US]  40.71427  -74.00597  \n",
      "2     [25.79065, -80.13005, US]  25.79065  -80.13005  \n",
      "3     [-8.05389, -34.88111, BR]  -8.05389  -34.88111  \n",
      "4     [32.78306, -96.80667, US]  32.78306  -96.80667  \n",
      "..                          ...       ...        ...  \n",
      "645    [31.76904, 35.21633, IL]  31.76904   35.21633  \n",
      "646   [14.19528, 120.87694, PH]  14.19528  120.87694  \n",
      "647  [-18.14161, 178.44149, FJ] -18.14161  178.44149  \n",
      "648    [18.45539, -69.9454, DO]  18.45539  -69.94540  \n",
      "649   [33.91371, -98.49339, US]  33.91371  -98.49339  \n",
      "\n",
      "[650 rows x 6 columns]\n"
     ]
    }
   ],
   "source": [
    "def findLat(cityName):\n",
    "   \n",
    "    if cityName==\"\":\n",
    "        return [0,0,\"\"]\n",
    "    cities = gc.get_cities_by_name(cityName)\n",
    "    if len(cities)==0:\n",
    "        return [0,0,\"\"]\n",
    "    else:\n",
    "        largestCityAttr = {}\n",
    "        for city in cities:\n",
    "            #each city is a dict with a key as id and value is city properties??\n",
    "            for cityKey in city.keys():\n",
    "                cityAttr = city[cityKey]\n",
    "                if len(largestCityAttr)==0:\n",
    "                    largestCityAttr=cityAttr\n",
    "                else:\n",
    "                    if cityAttr[\"population\"] > largestCityAttr[\"population\"]:\n",
    "                        largestCityAttr = cityAttr\n",
    "        return [largestCityAttr[\"latitude\"],largestCityAttr[\"longitude\"],largestCityAttr[\"countrycode\"]]\n",
    "    \n",
    "\n",
    "\n",
    "print(df)\n",
    "df[\"info\"]= df[\"city\"].apply(lambda x : findLat(x))\n",
    "df[\"lat\"]=df[\"info\"].apply(lambda x : x[0])\n",
    "df[\"long\"]=df[\"info\"].apply(lambda x : x[1])\n",
    "df[\"country\"]=df[\"info\"].apply(lambda x : x[2])\n",
    "df.drop(columns=[\"info\"])\n",
    "print(df)\n",
    "\n",
    "\n"
   ]
  },
  {
   "cell_type": "code",
   "execution_count": null,
   "metadata": {},
   "outputs": [],
   "source": []
  }
 ],
 "metadata": {
  "kernelspec": {
   "display_name": "Python 3",
   "language": "python",
   "name": "python3"
  },
  "language_info": {
   "codemirror_mode": {
    "name": "ipython",
    "version": 3
   },
   "file_extension": ".py",
   "mimetype": "text/x-python",
   "name": "python",
   "nbconvert_exporter": "python",
   "pygments_lexer": "ipython3",
   "version": "3.7.6"
  }
 },
 "nbformat": 4,
 "nbformat_minor": 4
}
