{
 "cells": [
  {
   "cell_type": "markdown",
   "metadata": {},
   "source": [
    "Extra package install (install in conda env)"
   ]
  },
  {
   "cell_type": "markdown",
   "metadata": {},
   "source": [
    "# Load data file\n",
    "Read headlines file and add to variable:content"
   ]
  },
  {
   "cell_type": "code",
   "execution_count": 76,
   "metadata": {},
   "outputs": [],
   "source": [
    "import os\n",
    "pwd = os.getcwd()\n",
    "path = os.path.join(pwd, \"data\", \"headlines.txt\")\n",
    "\n",
    "f = open(path,\"r\")\n",
    "lines = f.readlines()\n",
    "f.close()\n",
    "\n",
    "\n"
   ]
  },
  {
   "cell_type": "markdown",
   "metadata": {},
   "source": [
    "# Build regular expression from cities"
   ]
  },
  {
   "cell_type": "code",
   "execution_count": 77,
   "metadata": {},
   "outputs": [],
   "source": [
    "import re\n",
    "import geonamescache\n",
    "from unidecode import unidecode\n",
    "\n",
    "def byLength(e):\n",
    "    return len(e)\n",
    "\n",
    "gc = geonamescache.GeonamesCache()\n",
    "cityNames = []\n",
    "for city in gc.get_cities().values():\n",
    "        name = city['name']\n",
    "        normalizedName = unidecode(city['name'])\n",
    "        cityNames.append(normalizedName)\n",
    "\n",
    "#sort from long to short (want to match on long names first)\n",
    "cityNames.sort(reverse=True, key=byLength)\n",
    "\n",
    "orCities = \"|\".join(cityNames)\n",
    "regex = \"\\\\b(\" + orCities + \")\\\\b\"\n",
    "compiled_re = re.compile(regex)"
   ]
  },
  {
   "cell_type": "markdown",
   "metadata": {},
   "source": [
    "# Add headline, city and country code to panda data frame"
   ]
  },
  {
   "cell_type": "code",
   "execution_count": 80,
   "metadata": {},
   "outputs": [
    {
     "name": "stdout",
     "output_type": "stream",
     "text": [
      "No city match: Louisiana Zika cases up to 26\n",
      "\n",
      "No city match: Zika infects pregnant woman in Cebu\n",
      "\n",
      "No city match: Spanish Flu Sighted in Antigua\n",
      "\n",
      "No city match: Carnival under threat in Rio De Janeiro due to Zika outbreak\n",
      "\n",
      "No city match: Zika case reported in Oton\n",
      "\n",
      "No city match: Hillsborough uses innovative trap against Zika 20 minutes ago\n",
      "\n",
      "No city match: Maka City Experiences Influenza Outbreak\n",
      "\n",
      "No city match: More Zika patients reported in Mcallen\n",
      "\n",
      "No city match: West Nile Virus Outbreak in Saint Johns\n",
      "\n",
      "No city match: More people in Mclean are infected with Hepatitis A every year\n",
      "\n",
      "No city match: Malaria Exposure in Sussex\n",
      "\n",
      "No city match: Greenwich Establishes Zika Task Force\n",
      "\n",
      "No city match: Will West Nile Virus vaccine help Parsons?\n",
      "\n",
      "No city match: Yulee takes a hit from Spreading Sickness\n",
      "\n",
      "No city match: The Spread of Chikungunya in Davidson has been Confirmed\n",
      "\n",
      "No city match: Zika case reported in Los Fresnos\n",
      "\n",
      "No city match: More people in Boucau are infected with HIV every year\n",
      "\n",
      "No city match: Bronchitis Outbreak in Manhasset\n",
      "\n",
      "No city match: Zika Troubles come to Padre Las Casas\n",
      "\n",
      "No city match: Rumors about Influenza Spreading in Dobbs Ferry have been Refuted\n",
      "\n",
      "No city match: Outbreak of Zika in Destin\n",
      "\n",
      "No city match: More people in Huron are infected with Dengue every year\n",
      "\n",
      "No city match: Will Tuberculosis vaccine help Cherry Creek?\n",
      "\n",
      "No city match: Gympie Patient in Critical Condition after Contracting Chlamydia\n",
      "\n",
      "No city match: Spike of Meningitis Cases in Druid Hills\n",
      "\n",
      "No city match: Martinsville tests new cure for Measles\n",
      "\n",
      "No city match: More Patients in Magnolia are Getting Diagnosed with Malaria\n",
      "\n",
      "No city match: Rumors about Syphilis spreading in Penal have been refuted\n",
      "\n",
      "No city match: Fort Belvoir tests new cure for Hepatitis C\n",
      "\n",
      "No city match: More people in Oak Brook are infected with Respiratory Syncytial Virus every year\n",
      "\n",
      "No city match: Outbreak of Zika in Hutchins\n",
      "\n",
      "No city match: Longwood volunteers spreading Zika awareness\n",
      "\n",
      "No city match: Zika symptoms spotted in Quixere\n",
      "\n",
      "No city match: Measles Hits Davos\n",
      "\n",
      "No city match: Spike of Hepatitis E Cases in Morehead City\n",
      "\n",
      "No city match: Outbreak of Zika in Alvorada\n",
      "\n",
      "No city match: Schools in Coamo Closed Due to Rhinovirus Outbreak\n",
      "\n",
      "No city match: Zika arrives in Dangriga\n",
      "\n",
      "No city match: More Patients in Maynard are Getting Diagnosed with Syphilis\n",
      "\n",
      "No city match: Zika case reported in Antioquia\n",
      "\n",
      "No city match: Chikungunya has not Left Pismo Beach\n",
      "\n",
      "No city match: Zika spreads to La Joya\n",
      "\n",
      "                                              headline           city country\n",
      "0                           Zika Outbreak Hits Miami\\n          Miami      US\n",
      "1                    Could Zika Reach New York City?\\n  New York City      US\n",
      "2                  First Case of Zika in Miami Beach\\n    Miami Beach      US\n",
      "3            Mystery Virus Spreads in Recife, Brazil\\n         Recife      BR\n",
      "4            Dallas man comes down with case of Zika\\n         Dallas      US\n",
      "..                                                 ...            ...     ...\n",
      "922  Suva authorities confirmed the spread of Rotav...           Suva      FJ\n",
      "923       More Zika patients reported in Bella Vista\\n    Bella Vista      AR\n",
      "924       More Zika patients reported in Bella Vista\\n    Bella Vista      DO\n",
      "925       More Zika patients reported in Bella Vista\\n    Bella Vista      US\n",
      "926                   Zika Outbreak in Wichita Falls\\n  Wichita Falls      US\n",
      "\n",
      "[927 rows x 3 columns]\n"
     ]
    }
   ],
   "source": [
    "import re\n",
    "import geonamescache\n",
    "from unidecode import unidecode\n",
    "import pandas as pd \n",
    "\n",
    "df = pd.DataFrame(columns =['headline', 'city', 'country']) \n",
    "\n",
    "for line in lines:\n",
    "    m = compiled_re.search(line)\n",
    "    if m != None:\n",
    "        cityName = line[m.start():m.end()]\n",
    "        cities = gc.get_cities_by_name(cityName)\n",
    "        if len(city)==0:\n",
    "            print(\"Count not match: \", line)\n",
    "        else:\n",
    "            for city in cities:\n",
    "                for value in city.values():\n",
    "                    info = [line, value[\"name\"], value[\"countrycode\"]]\n",
    "                    df = df.append({'headline' : line, \"city\" : value[\"name\"] , \"country\" : value[\"countrycode\"]} , ignore_index=True)\n",
    "    else:\n",
    "        print(\"No city match: \" + line)\n",
    " \n",
    "print(df)"
   ]
  },
  {
   "cell_type": "markdown",
   "metadata": {},
   "source": []
  },
  {
   "cell_type": "code",
   "execution_count": null,
   "metadata": {},
   "outputs": [],
   "source": []
  }
 ],
 "metadata": {
  "kernelspec": {
   "display_name": "Python 3",
   "language": "python",
   "name": "python3"
  },
  "language_info": {
   "codemirror_mode": {
    "name": "ipython",
    "version": 3
   },
   "file_extension": ".py",
   "mimetype": "text/x-python",
   "name": "python",
   "nbconvert_exporter": "python",
   "pygments_lexer": "ipython3",
   "version": "3.7.6"
  }
 },
 "nbformat": 4,
 "nbformat_minor": 4
}
